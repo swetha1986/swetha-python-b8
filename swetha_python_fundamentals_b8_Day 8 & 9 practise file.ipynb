{
 "cells": [
  {
   "cell_type": "code",
   "execution_count": 1,
   "metadata": {},
   "outputs": [
    {
     "name": "stdout",
     "output_type": "stream",
     "text": [
      "Tell me something & I will repeat it back for you:Good morning\n",
      "Good morning\n"
     ]
    }
   ],
   "source": [
    "# Accepting user input\n",
    "\n",
    "message = input(\"Tell me something & I will repeat it back for you:\")\n",
    "print(message)"
   ]
  },
  {
   "cell_type": "code",
   "execution_count": 2,
   "metadata": {},
   "outputs": [
    {
     "name": "stdout",
     "output_type": "stream",
     "text": [
      "please enter your name:Swetha\n",
      "\n",
      "welcomeback, Swetha!\n"
     ]
    }
   ],
   "source": [
    "# Enhancing the code\n",
    "\n",
    "name = input('please enter your name:')\n",
    "print(f\"\\nwelcomeback, {name}!\")"
   ]
  },
  {
   "cell_type": "code",
   "execution_count": 3,
   "metadata": {},
   "outputs": [
    {
     "ename": "SyntaxError",
     "evalue": "invalid syntax (<ipython-input-3-e43dc6688373>, line 3)",
     "output_type": "error",
     "traceback": [
      "\u001b[1;36m  File \u001b[1;32m\"<ipython-input-3-e43dc6688373>\"\u001b[1;36m, line \u001b[1;32m3\u001b[0m\n\u001b[1;33m    age = input(how old are you?')\u001b[0m\n\u001b[1;37m                      ^\u001b[0m\n\u001b[1;31mSyntaxError\u001b[0m\u001b[1;31m:\u001b[0m invalid syntax\n"
     ]
    }
   ],
   "source": [
    "# how to accept numerical input\n",
    "\n",
    "age = input(how old are you?')\n",
    "print(age)"
   ]
  },
  {
   "cell_type": "code",
   "execution_count": 4,
   "metadata": {},
   "outputs": [
    {
     "name": "stdout",
     "output_type": "stream",
     "text": [
      "how old are you?32\n",
      "32\n"
     ]
    }
   ],
   "source": [
    "age = input('how old are you?')\n",
    "print(age)"
   ]
  },
  {
   "cell_type": "code",
   "execution_count": 5,
   "metadata": {},
   "outputs": [
    {
     "name": "stdout",
     "output_type": "stream",
     "text": [
      "how old are you?17\n",
      "\n",
      "try next year\n"
     ]
    }
   ],
   "source": [
    "# If condition : simple voting application\n",
    "\n",
    "age = input('how old are you?')\n",
    "age = int(age)\n",
    "if age >= 18:\n",
    "    print('\\nyou are eligible to vote!!')\n",
    "else:\n",
    "    print('\\ntry next year')"
   ]
  },
  {
   "cell_type": "code",
   "execution_count": 6,
   "metadata": {},
   "outputs": [
    {
     "name": "stdout",
     "output_type": "stream",
     "text": [
      "how old are you?24\n",
      "\n",
      "you are eligible to vote!!\n"
     ]
    }
   ],
   "source": [
    "age = input('how old are you?')\n",
    "age = int(age)\n",
    "if age >= 18:\n",
    "    print('\\nyou are eligible to vote!!')\n",
    "else:\n",
    "    print('\\ntry next year')"
   ]
  },
  {
   "cell_type": "code",
   "execution_count": 7,
   "metadata": {},
   "outputs": [
    {
     "ename": "SyntaxError",
     "evalue": "invalid syntax (<ipython-input-7-a2d88fca613b>, line 5)",
     "output_type": "error",
     "traceback": [
      "\u001b[1;36m  File \u001b[1;32m\"<ipython-input-7-a2d88fca613b>\"\u001b[1;36m, line \u001b[1;32m5\u001b[0m\n\u001b[1;33m    if num%2 =0:\u001b[0m\n\u001b[1;37m             ^\u001b[0m\n\u001b[1;31mSyntaxError\u001b[0m\u001b[1;31m:\u001b[0m invalid syntax\n"
     ]
    }
   ],
   "source": [
    "# Program to check whether number is even or odd\n",
    "\n",
    "num = input('enter a number and i will tell you its even or odd:')\n",
    "num = int(num)\n",
    "if num%2 =0:\n",
    "    print(f\"\\n the number is even, {num}\")\n",
    "else:\n",
    "    print(f\"\\n the number is odd!, {num}\")"
   ]
  },
  {
   "cell_type": "code",
   "execution_count": 8,
   "metadata": {},
   "outputs": [
    {
     "ename": "SyntaxError",
     "evalue": "invalid syntax (<ipython-input-8-73a838b201bf>, line 3)",
     "output_type": "error",
     "traceback": [
      "\u001b[1;36m  File \u001b[1;32m\"<ipython-input-8-73a838b201bf>\"\u001b[1;36m, line \u001b[1;32m3\u001b[0m\n\u001b[1;33m    if num%2 = 0:\u001b[0m\n\u001b[1;37m             ^\u001b[0m\n\u001b[1;31mSyntaxError\u001b[0m\u001b[1;31m:\u001b[0m invalid syntax\n"
     ]
    }
   ],
   "source": [
    "num = input('enter a number and i will tell you its even or odd:')\n",
    "num = int(num)\n",
    "if num%2 = 0:\n",
    "    print(f\"\\n the number is even, {num}\")\n",
    "else:\n",
    "    print(f\"\\n the number is odd!, {num}\")"
   ]
  },
  {
   "cell_type": "code",
   "execution_count": 9,
   "metadata": {},
   "outputs": [
    {
     "name": "stdout",
     "output_type": "stream",
     "text": [
      "enter a number and i will tell you its even or odd:8\n",
      "\n",
      " the number is even, 8\n"
     ]
    }
   ],
   "source": [
    "num = input('enter a number and i will tell you its even or odd:')\n",
    "num = int(num)\n",
    "if num%2 == 0:\n",
    "    print(f\"\\n the number is even, {num}\")\n",
    "else:\n",
    "    print(f\"\\n the number is odd!, {num}\")"
   ]
  },
  {
   "cell_type": "code",
   "execution_count": 10,
   "metadata": {},
   "outputs": [
    {
     "name": "stdout",
     "output_type": "stream",
     "text": [
      "enter a number and i will tell you its even or odd:9\n",
      "\n",
      " the number is odd!, 9\n"
     ]
    }
   ],
   "source": [
    "num = input('enter a number and i will tell you its even or odd:')\n",
    "num = int(num)\n",
    "if num%2 == 0:\n",
    "    print(f\"\\n the number is even, {num}\")\n",
    "else:\n",
    "    print(f\"\\n the number is odd!, {num}\")"
   ]
  },
  {
   "cell_type": "code",
   "execution_count": 1,
   "metadata": {},
   "outputs": [
    {
     "name": "stdout",
     "output_type": "stream",
     "text": [
      "Hello!\n"
     ]
    }
   ],
   "source": [
    "# Introduction to functions\n",
    "\n",
    "def greet_user():\n",
    "    \"\"\"Display a simple greeting\"\"\"\n",
    "    print(\"Hello!\")\n",
    "greet_user()"
   ]
  },
  {
   "cell_type": "code",
   "execution_count": 2,
   "metadata": {},
   "outputs": [
    {
     "name": "stdout",
     "output_type": "stream",
     "text": [
      "welcomeback, Swetha!\n"
     ]
    }
   ],
   "source": [
    "# passing information to a function\n",
    "def greet_user(username):\n",
    "    \"\"\"Display greetng to the user\"\"\"\n",
    "    print(f\"welcomeback, {username.title()}!\")\n",
    "greet_user('swetha')"
   ]
  },
  {
   "cell_type": "code",
   "execution_count": 3,
   "metadata": {},
   "outputs": [
    {
     "name": "stdout",
     "output_type": "stream",
     "text": [
      "welcomeback, Sriram!\n"
     ]
    }
   ],
   "source": [
    "greet_user('Sriram')"
   ]
  },
  {
   "cell_type": "code",
   "execution_count": 7,
   "metadata": {},
   "outputs": [
    {
     "name": "stdout",
     "output_type": "stream",
     "text": [
      "\n",
      "I have a dog\n",
      "\n",
      " my dog's name is Bruno\n"
     ]
    }
   ],
   "source": [
    "# passing arguments\n",
    "\n",
    "def describe_pet(animal_type,pet_name):\n",
    "    \"\"\"Display info about the pet\"\"\"\n",
    "    print(f\"\\nI have a {animal_type}\")\n",
    "    print(f\"\\n my {animal_type}'s name is {pet_name.title()}\")\n",
    "describe_pet('dog','bruno')"
   ]
  },
  {
   "cell_type": "code",
   "execution_count": 8,
   "metadata": {},
   "outputs": [
    {
     "name": "stdout",
     "output_type": "stream",
     "text": [
      "\n",
      "I have a cat\n",
      "\n",
      " my cat's name is Snowbell\n"
     ]
    }
   ],
   "source": [
    "describe_pet(pet_name = 'snowbell',animal_type = 'cat')"
   ]
  },
  {
   "cell_type": "code",
   "execution_count": null,
   "metadata": {},
   "outputs": [],
   "source": []
  }
 ],
 "metadata": {
  "kernelspec": {
   "display_name": "Python 3",
   "language": "python",
   "name": "python3"
  },
  "language_info": {
   "codemirror_mode": {
    "name": "ipython",
    "version": 3
   },
   "file_extension": ".py",
   "mimetype": "text/x-python",
   "name": "python",
   "nbconvert_exporter": "python",
   "pygments_lexer": "ipython3",
   "version": "3.7.3"
  }
 },
 "nbformat": 4,
 "nbformat_minor": 2
}
